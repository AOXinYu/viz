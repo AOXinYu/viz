{
 "cells": [
  {
   "cell_type": "markdown",
   "metadata": {},
   "source": [
    "# Data Wrangling"
   ]
  },
  {
   "cell_type": "markdown",
   "metadata": {},
   "source": [
    "Merge and tidy repos and users tables to prepare for visualization."
   ]
  },
  {
   "cell_type": "code",
   "execution_count": 1,
   "metadata": {
    "collapsed": false,
    "scrolled": false
   },
   "outputs": [],
   "source": [
    "import re\n",
    "\n",
    "import numpy as np\n",
    "import pandas as pd"
   ]
  },
  {
   "cell_type": "markdown",
   "metadata": {},
   "source": [
    "## Prepare Repo Data"
   ]
  },
  {
   "cell_type": "markdown",
   "metadata": {},
   "source": [
    "Load the repos data and drop duplicates:"
   ]
  },
  {
   "cell_type": "code",
   "execution_count": 2,
   "metadata": {
    "collapsed": false,
    "scrolled": false
   },
   "outputs": [
    {
     "name": "stdout",
     "output_type": "stream",
     "text": [
      "Shape before dropping duplicates (7060, 5)\n",
      "Shape after  dropping duplicates (7059, 5)\n"
     ]
    },
    {
     "data": {
      "text/html": [
       "<div>\n",
       "<table border=\"1\" class=\"dataframe\">\n",
       "  <thead>\n",
       "    <tr style=\"text-align: right;\">\n",
       "      <th></th>\n",
       "      <th>full_name</th>\n",
       "      <th>stars</th>\n",
       "      <th>forks</th>\n",
       "      <th>description</th>\n",
       "      <th>language</th>\n",
       "    </tr>\n",
       "  </thead>\n",
       "  <tbody>\n",
       "    <tr>\n",
       "      <th>0</th>\n",
       "      <td>facebook/react-native</td>\n",
       "      <td>24783</td>\n",
       "      <td>4198</td>\n",
       "      <td>A framework for building native apps with React.</td>\n",
       "      <td>JavaScript</td>\n",
       "    </tr>\n",
       "    <tr>\n",
       "      <th>1</th>\n",
       "      <td>NARKOZ/hacker-scripts</td>\n",
       "      <td>19836</td>\n",
       "      <td>3553</td>\n",
       "      <td>Based on a true story</td>\n",
       "      <td>JavaScript</td>\n",
       "    </tr>\n",
       "    <tr>\n",
       "      <th>2</th>\n",
       "      <td>rackt/redux</td>\n",
       "      <td>11612</td>\n",
       "      <td>1180</td>\n",
       "      <td>Predictable state container for JavaScript apps</td>\n",
       "      <td>JavaScript</td>\n",
       "    </tr>\n",
       "    <tr>\n",
       "      <th>3</th>\n",
       "      <td>bevacqua/dragula</td>\n",
       "      <td>10737</td>\n",
       "      <td>593</td>\n",
       "      <td>:ok_hand: Drag and drop so simple it hurts</td>\n",
       "      <td>JavaScript</td>\n",
       "    </tr>\n",
       "    <tr>\n",
       "      <th>4</th>\n",
       "      <td>zenorocha/clipboard.js</td>\n",
       "      <td>10268</td>\n",
       "      <td>438</td>\n",
       "      <td>:scissors: Modern copy to clipboard. No Flash....</td>\n",
       "      <td>JavaScript</td>\n",
       "    </tr>\n",
       "  </tbody>\n",
       "</table>\n",
       "</div>"
      ],
      "text/plain": [
       "                full_name  stars  forks  \\\n",
       "0   facebook/react-native  24783   4198   \n",
       "1   NARKOZ/hacker-scripts  19836   3553   \n",
       "2             rackt/redux  11612   1180   \n",
       "3        bevacqua/dragula  10737    593   \n",
       "4  zenorocha/clipboard.js  10268    438   \n",
       "\n",
       "                                         description    language  \n",
       "0   A framework for building native apps with React.  JavaScript  \n",
       "1                              Based on a true story  JavaScript  \n",
       "2    Predictable state container for JavaScript apps  JavaScript  \n",
       "3         :ok_hand: Drag and drop so simple it hurts  JavaScript  \n",
       "4  :scissors: Modern copy to clipboard. No Flash....  JavaScript  "
      ]
     },
     "execution_count": 2,
     "metadata": {},
     "output_type": "execute_result"
    }
   ],
   "source": [
    "repos = pd.read_csv(\"data/repos-dump.csv\", quotechar='\"', skipinitialspace=True)\n",
    "print('Shape before dropping duplicates', repos.shape)\n",
    "repos = repos.drop_duplicates(subset='full_name', keep='last')\n",
    "print('Shape after  dropping duplicates', repos.shape)\n",
    "repos.head()"
   ]
  },
  {
   "cell_type": "markdown",
   "metadata": {},
   "source": [
    "Separate out the `user` and `repo` from `full_name` into new columns:"
   ]
  },
  {
   "cell_type": "code",
   "execution_count": 3,
   "metadata": {
    "collapsed": false
   },
   "outputs": [
    {
     "name": "stdout",
     "output_type": "stream",
     "text": [
      "(7059, 7)\n"
     ]
    },
    {
     "data": {
      "text/html": [
       "<div>\n",
       "<table border=\"1\" class=\"dataframe\">\n",
       "  <thead>\n",
       "    <tr style=\"text-align: right;\">\n",
       "      <th></th>\n",
       "      <th>full_name</th>\n",
       "      <th>stars</th>\n",
       "      <th>forks</th>\n",
       "      <th>description</th>\n",
       "      <th>language</th>\n",
       "      <th>user</th>\n",
       "      <th>repo</th>\n",
       "    </tr>\n",
       "  </thead>\n",
       "  <tbody>\n",
       "    <tr>\n",
       "      <th>0</th>\n",
       "      <td>facebook/react-native</td>\n",
       "      <td>24783</td>\n",
       "      <td>4198</td>\n",
       "      <td>A framework for building native apps with React.</td>\n",
       "      <td>JavaScript</td>\n",
       "      <td>facebook</td>\n",
       "      <td>react-native</td>\n",
       "    </tr>\n",
       "    <tr>\n",
       "      <th>1</th>\n",
       "      <td>NARKOZ/hacker-scripts</td>\n",
       "      <td>19836</td>\n",
       "      <td>3553</td>\n",
       "      <td>Based on a true story</td>\n",
       "      <td>JavaScript</td>\n",
       "      <td>NARKOZ</td>\n",
       "      <td>hacker-scripts</td>\n",
       "    </tr>\n",
       "    <tr>\n",
       "      <th>2</th>\n",
       "      <td>rackt/redux</td>\n",
       "      <td>11612</td>\n",
       "      <td>1180</td>\n",
       "      <td>Predictable state container for JavaScript apps</td>\n",
       "      <td>JavaScript</td>\n",
       "      <td>rackt</td>\n",
       "      <td>redux</td>\n",
       "    </tr>\n",
       "    <tr>\n",
       "      <th>3</th>\n",
       "      <td>bevacqua/dragula</td>\n",
       "      <td>10737</td>\n",
       "      <td>593</td>\n",
       "      <td>:ok_hand: Drag and drop so simple it hurts</td>\n",
       "      <td>JavaScript</td>\n",
       "      <td>bevacqua</td>\n",
       "      <td>dragula</td>\n",
       "    </tr>\n",
       "    <tr>\n",
       "      <th>4</th>\n",
       "      <td>zenorocha/clipboard.js</td>\n",
       "      <td>10268</td>\n",
       "      <td>438</td>\n",
       "      <td>:scissors: Modern copy to clipboard. No Flash....</td>\n",
       "      <td>JavaScript</td>\n",
       "      <td>zenorocha</td>\n",
       "      <td>clipboard.js</td>\n",
       "    </tr>\n",
       "  </tbody>\n",
       "</table>\n",
       "</div>"
      ],
      "text/plain": [
       "                full_name  stars  forks  \\\n",
       "0   facebook/react-native  24783   4198   \n",
       "1   NARKOZ/hacker-scripts  19836   3553   \n",
       "2             rackt/redux  11612   1180   \n",
       "3        bevacqua/dragula  10737    593   \n",
       "4  zenorocha/clipboard.js  10268    438   \n",
       "\n",
       "                                         description    language       user  \\\n",
       "0   A framework for building native apps with React.  JavaScript   facebook   \n",
       "1                              Based on a true story  JavaScript     NARKOZ   \n",
       "2    Predictable state container for JavaScript apps  JavaScript      rackt   \n",
       "3         :ok_hand: Drag and drop so simple it hurts  JavaScript   bevacqua   \n",
       "4  :scissors: Modern copy to clipboard. No Flash....  JavaScript  zenorocha   \n",
       "\n",
       "             repo  \n",
       "0    react-native  \n",
       "1  hacker-scripts  \n",
       "2           redux  \n",
       "3         dragula  \n",
       "4    clipboard.js  "
      ]
     },
     "execution_count": 3,
     "metadata": {},
     "output_type": "execute_result"
    }
   ],
   "source": [
    "def extract_user(line):\n",
    "    return line.split('/')[0]\n",
    "\n",
    "def extract_repo(line):\n",
    "    return line.split('/')[1]\n",
    "\n",
    "repos['user'] = repos['full_name'].str[:].apply(extract_user)\n",
    "repos['repo'] = repos['full_name'].str[:].apply(extract_repo)\n",
    "print(repos.shape)\n",
    "repos.head()"
   ]
  },
  {
   "cell_type": "markdown",
   "metadata": {},
   "source": [
    "## Prepare User Data"
   ]
  },
  {
   "cell_type": "markdown",
   "metadata": {},
   "source": [
    "Load the users data and drop duplicates:"
   ]
  },
  {
   "cell_type": "code",
   "execution_count": 4,
   "metadata": {
    "collapsed": false,
    "scrolled": false
   },
   "outputs": [
    {
     "name": "stdout",
     "output_type": "stream",
     "text": [
      "Shape before dropping duplicates (5626, 4)\n",
      "Shape after  dropping duplicates (5130, 4)\n"
     ]
    },
    {
     "data": {
      "text/html": [
       "<div>\n",
       "<table border=\"1\" class=\"dataframe\">\n",
       "  <thead>\n",
       "    <tr style=\"text-align: right;\">\n",
       "      <th></th>\n",
       "      <th>id</th>\n",
       "      <th>name</th>\n",
       "      <th>type</th>\n",
       "      <th>location</th>\n",
       "    </tr>\n",
       "  </thead>\n",
       "  <tbody>\n",
       "    <tr>\n",
       "      <th>2</th>\n",
       "      <td>zenorocha</td>\n",
       "      <td>Zeno Rocha</td>\n",
       "      <td>User</td>\n",
       "      <td>Los Angeles, CA</td>\n",
       "    </tr>\n",
       "    <tr>\n",
       "      <th>3</th>\n",
       "      <td>yaronn</td>\n",
       "      <td>Yaron Naveh</td>\n",
       "      <td>User</td>\n",
       "      <td>Israel</td>\n",
       "    </tr>\n",
       "    <tr>\n",
       "      <th>5</th>\n",
       "      <td>arasatasaygin</td>\n",
       "      <td>Aras</td>\n",
       "      <td>User</td>\n",
       "      <td>İstanbul, Turkey</td>\n",
       "    </tr>\n",
       "    <tr>\n",
       "      <th>6</th>\n",
       "      <td>ipselon</td>\n",
       "      <td>Alex Pustovalov</td>\n",
       "      <td>User</td>\n",
       "      <td>Ukraine</td>\n",
       "    </tr>\n",
       "    <tr>\n",
       "      <th>7</th>\n",
       "      <td>callmecavs</td>\n",
       "      <td>Michael Cavalea</td>\n",
       "      <td>User</td>\n",
       "      <td>New York, NY</td>\n",
       "    </tr>\n",
       "  </tbody>\n",
       "</table>\n",
       "</div>"
      ],
      "text/plain": [
       "              id             name  type          location\n",
       "2      zenorocha       Zeno Rocha  User   Los Angeles, CA\n",
       "3         yaronn      Yaron Naveh  User            Israel\n",
       "5  arasatasaygin             Aras  User  İstanbul, Turkey\n",
       "6        ipselon  Alex Pustovalov  User           Ukraine\n",
       "7     callmecavs  Michael Cavalea  User      New York, NY"
      ]
     },
     "execution_count": 4,
     "metadata": {},
     "output_type": "execute_result"
    }
   ],
   "source": [
    "users = pd.read_csv(\"data/users-dump.csv\", quotechar='\"', skipinitialspace=True)\n",
    "print('Shape before dropping duplicates', users.shape)\n",
    "users = users.drop_duplicates(subset='id', keep='last')\n",
    "print('Shape after  dropping duplicates', users.shape)\n",
    "users.head()"
   ]
  },
  {
   "cell_type": "markdown",
   "metadata": {},
   "source": [
    "Rename column `id` to `user`:"
   ]
  },
  {
   "cell_type": "code",
   "execution_count": 5,
   "metadata": {
    "collapsed": false
   },
   "outputs": [
    {
     "data": {
      "text/html": [
       "<div>\n",
       "<table border=\"1\" class=\"dataframe\">\n",
       "  <thead>\n",
       "    <tr style=\"text-align: right;\">\n",
       "      <th></th>\n",
       "      <th>user</th>\n",
       "      <th>name</th>\n",
       "      <th>type</th>\n",
       "      <th>location</th>\n",
       "    </tr>\n",
       "  </thead>\n",
       "  <tbody>\n",
       "    <tr>\n",
       "      <th>2</th>\n",
       "      <td>zenorocha</td>\n",
       "      <td>Zeno Rocha</td>\n",
       "      <td>User</td>\n",
       "      <td>Los Angeles, CA</td>\n",
       "    </tr>\n",
       "    <tr>\n",
       "      <th>3</th>\n",
       "      <td>yaronn</td>\n",
       "      <td>Yaron Naveh</td>\n",
       "      <td>User</td>\n",
       "      <td>Israel</td>\n",
       "    </tr>\n",
       "    <tr>\n",
       "      <th>5</th>\n",
       "      <td>arasatasaygin</td>\n",
       "      <td>Aras</td>\n",
       "      <td>User</td>\n",
       "      <td>İstanbul, Turkey</td>\n",
       "    </tr>\n",
       "    <tr>\n",
       "      <th>6</th>\n",
       "      <td>ipselon</td>\n",
       "      <td>Alex Pustovalov</td>\n",
       "      <td>User</td>\n",
       "      <td>Ukraine</td>\n",
       "    </tr>\n",
       "    <tr>\n",
       "      <th>7</th>\n",
       "      <td>callmecavs</td>\n",
       "      <td>Michael Cavalea</td>\n",
       "      <td>User</td>\n",
       "      <td>New York, NY</td>\n",
       "    </tr>\n",
       "  </tbody>\n",
       "</table>\n",
       "</div>"
      ],
      "text/plain": [
       "            user             name  type          location\n",
       "2      zenorocha       Zeno Rocha  User   Los Angeles, CA\n",
       "3         yaronn      Yaron Naveh  User            Israel\n",
       "5  arasatasaygin             Aras  User  İstanbul, Turkey\n",
       "6        ipselon  Alex Pustovalov  User           Ukraine\n",
       "7     callmecavs  Michael Cavalea  User      New York, NY"
      ]
     },
     "execution_count": 5,
     "metadata": {},
     "output_type": "execute_result"
    }
   ],
   "source": [
    "users.rename(columns={'id': 'user'}, inplace=True)\n",
    "users.head()"
   ]
  },
  {
   "cell_type": "markdown",
   "metadata": {},
   "source": [
    "## Merge Repo and User Data"
   ]
  },
  {
   "cell_type": "markdown",
   "metadata": {},
   "source": [
    "Left join repos and users:"
   ]
  },
  {
   "cell_type": "code",
   "execution_count": 6,
   "metadata": {
    "collapsed": false,
    "scrolled": false
   },
   "outputs": [
    {
     "name": "stdout",
     "output_type": "stream",
     "text": [
      "Shape repos: (7059, 7)\n",
      "Shape users: (5130, 4)\n",
      "Shape repos_users: (7059, 10)\n"
     ]
    },
    {
     "data": {
      "text/html": [
       "<div>\n",
       "<table border=\"1\" class=\"dataframe\">\n",
       "  <thead>\n",
       "    <tr style=\"text-align: right;\">\n",
       "      <th></th>\n",
       "      <th>full_name</th>\n",
       "      <th>stars</th>\n",
       "      <th>forks</th>\n",
       "      <th>description</th>\n",
       "      <th>language</th>\n",
       "      <th>user</th>\n",
       "      <th>repo</th>\n",
       "      <th>name</th>\n",
       "      <th>type</th>\n",
       "      <th>location</th>\n",
       "    </tr>\n",
       "  </thead>\n",
       "  <tbody>\n",
       "    <tr>\n",
       "      <th>0</th>\n",
       "      <td>facebook/react-native</td>\n",
       "      <td>24783</td>\n",
       "      <td>4198</td>\n",
       "      <td>A framework for building native apps with React.</td>\n",
       "      <td>JavaScript</td>\n",
       "      <td>facebook</td>\n",
       "      <td>react-native</td>\n",
       "      <td>Facebook</td>\n",
       "      <td>Organization</td>\n",
       "      <td>Menlo Park, California</td>\n",
       "    </tr>\n",
       "    <tr>\n",
       "      <th>1</th>\n",
       "      <td>NARKOZ/hacker-scripts</td>\n",
       "      <td>19836</td>\n",
       "      <td>3553</td>\n",
       "      <td>Based on a true story</td>\n",
       "      <td>JavaScript</td>\n",
       "      <td>NARKOZ</td>\n",
       "      <td>hacker-scripts</td>\n",
       "      <td>Nihad Abbasov</td>\n",
       "      <td>User</td>\n",
       "      <td>Katowice, Poland</td>\n",
       "    </tr>\n",
       "    <tr>\n",
       "      <th>2</th>\n",
       "      <td>rackt/redux</td>\n",
       "      <td>11612</td>\n",
       "      <td>1180</td>\n",
       "      <td>Predictable state container for JavaScript apps</td>\n",
       "      <td>JavaScript</td>\n",
       "      <td>rackt</td>\n",
       "      <td>redux</td>\n",
       "      <td>NaN</td>\n",
       "      <td>Organization</td>\n",
       "      <td>NaN</td>\n",
       "    </tr>\n",
       "    <tr>\n",
       "      <th>3</th>\n",
       "      <td>bevacqua/dragula</td>\n",
       "      <td>10737</td>\n",
       "      <td>593</td>\n",
       "      <td>:ok_hand: Drag and drop so simple it hurts</td>\n",
       "      <td>JavaScript</td>\n",
       "      <td>bevacqua</td>\n",
       "      <td>dragula</td>\n",
       "      <td>Nicolás Bevacqua</td>\n",
       "      <td>User</td>\n",
       "      <td>https://twitter.com/nzgb</td>\n",
       "    </tr>\n",
       "    <tr>\n",
       "      <th>4</th>\n",
       "      <td>zenorocha/clipboard.js</td>\n",
       "      <td>10268</td>\n",
       "      <td>438</td>\n",
       "      <td>:scissors: Modern copy to clipboard. No Flash....</td>\n",
       "      <td>JavaScript</td>\n",
       "      <td>zenorocha</td>\n",
       "      <td>clipboard.js</td>\n",
       "      <td>Zeno Rocha</td>\n",
       "      <td>User</td>\n",
       "      <td>Los Angeles, CA</td>\n",
       "    </tr>\n",
       "  </tbody>\n",
       "</table>\n",
       "</div>"
      ],
      "text/plain": [
       "                full_name  stars  forks  \\\n",
       "0   facebook/react-native  24783   4198   \n",
       "1   NARKOZ/hacker-scripts  19836   3553   \n",
       "2             rackt/redux  11612   1180   \n",
       "3        bevacqua/dragula  10737    593   \n",
       "4  zenorocha/clipboard.js  10268    438   \n",
       "\n",
       "                                         description    language       user  \\\n",
       "0   A framework for building native apps with React.  JavaScript   facebook   \n",
       "1                              Based on a true story  JavaScript     NARKOZ   \n",
       "2    Predictable state container for JavaScript apps  JavaScript      rackt   \n",
       "3         :ok_hand: Drag and drop so simple it hurts  JavaScript   bevacqua   \n",
       "4  :scissors: Modern copy to clipboard. No Flash....  JavaScript  zenorocha   \n",
       "\n",
       "             repo              name          type                  location  \n",
       "0    react-native          Facebook  Organization    Menlo Park, California  \n",
       "1  hacker-scripts     Nihad Abbasov          User          Katowice, Poland  \n",
       "2           redux               NaN  Organization                       NaN  \n",
       "3         dragula  Nicolás Bevacqua          User  https://twitter.com/nzgb  \n",
       "4    clipboard.js        Zeno Rocha          User           Los Angeles, CA  "
      ]
     },
     "execution_count": 6,
     "metadata": {},
     "output_type": "execute_result"
    }
   ],
   "source": [
    "repos_users = pd.merge(repos, users, on='user', how='left')\n",
    "print('Shape repos:', repos.shape)\n",
    "print('Shape users:', users.shape)\n",
    "print('Shape repos_users:', repos_users.shape)\n",
    "repos_users.head()"
   ]
  },
  {
   "cell_type": "markdown",
   "metadata": {},
   "source": [
    "## Tidy Up Repo and User Data"
   ]
  },
  {
   "cell_type": "markdown",
   "metadata": {},
   "source": [
    "Re-order the columns:"
   ]
  },
  {
   "cell_type": "code",
   "execution_count": 7,
   "metadata": {
    "collapsed": false,
    "scrolled": false
   },
   "outputs": [
    {
     "name": "stdout",
     "output_type": "stream",
     "text": [
      "(7059, 10)\n"
     ]
    },
    {
     "data": {
      "text/html": [
       "<div>\n",
       "<table border=\"1\" class=\"dataframe\">\n",
       "  <thead>\n",
       "    <tr style=\"text-align: right;\">\n",
       "      <th></th>\n",
       "      <th>full_name</th>\n",
       "      <th>repo</th>\n",
       "      <th>description</th>\n",
       "      <th>stars</th>\n",
       "      <th>forks</th>\n",
       "      <th>language</th>\n",
       "      <th>user</th>\n",
       "      <th>name</th>\n",
       "      <th>type</th>\n",
       "      <th>location</th>\n",
       "    </tr>\n",
       "  </thead>\n",
       "  <tbody>\n",
       "    <tr>\n",
       "      <th>0</th>\n",
       "      <td>facebook/react-native</td>\n",
       "      <td>react-native</td>\n",
       "      <td>A framework for building native apps with React.</td>\n",
       "      <td>24783</td>\n",
       "      <td>4198</td>\n",
       "      <td>JavaScript</td>\n",
       "      <td>facebook</td>\n",
       "      <td>Facebook</td>\n",
       "      <td>Organization</td>\n",
       "      <td>Menlo Park, California</td>\n",
       "    </tr>\n",
       "    <tr>\n",
       "      <th>1</th>\n",
       "      <td>NARKOZ/hacker-scripts</td>\n",
       "      <td>hacker-scripts</td>\n",
       "      <td>Based on a true story</td>\n",
       "      <td>19836</td>\n",
       "      <td>3553</td>\n",
       "      <td>JavaScript</td>\n",
       "      <td>NARKOZ</td>\n",
       "      <td>Nihad Abbasov</td>\n",
       "      <td>User</td>\n",
       "      <td>Katowice, Poland</td>\n",
       "    </tr>\n",
       "    <tr>\n",
       "      <th>2</th>\n",
       "      <td>rackt/redux</td>\n",
       "      <td>redux</td>\n",
       "      <td>Predictable state container for JavaScript apps</td>\n",
       "      <td>11612</td>\n",
       "      <td>1180</td>\n",
       "      <td>JavaScript</td>\n",
       "      <td>rackt</td>\n",
       "      <td>NaN</td>\n",
       "      <td>Organization</td>\n",
       "      <td>NaN</td>\n",
       "    </tr>\n",
       "    <tr>\n",
       "      <th>3</th>\n",
       "      <td>bevacqua/dragula</td>\n",
       "      <td>dragula</td>\n",
       "      <td>:ok_hand: Drag and drop so simple it hurts</td>\n",
       "      <td>10737</td>\n",
       "      <td>593</td>\n",
       "      <td>JavaScript</td>\n",
       "      <td>bevacqua</td>\n",
       "      <td>Nicolás Bevacqua</td>\n",
       "      <td>User</td>\n",
       "      <td>https://twitter.com/nzgb</td>\n",
       "    </tr>\n",
       "    <tr>\n",
       "      <th>4</th>\n",
       "      <td>zenorocha/clipboard.js</td>\n",
       "      <td>clipboard.js</td>\n",
       "      <td>:scissors: Modern copy to clipboard. No Flash....</td>\n",
       "      <td>10268</td>\n",
       "      <td>438</td>\n",
       "      <td>JavaScript</td>\n",
       "      <td>zenorocha</td>\n",
       "      <td>Zeno Rocha</td>\n",
       "      <td>User</td>\n",
       "      <td>Los Angeles, CA</td>\n",
       "    </tr>\n",
       "  </tbody>\n",
       "</table>\n",
       "</div>"
      ],
      "text/plain": [
       "                full_name            repo  \\\n",
       "0   facebook/react-native    react-native   \n",
       "1   NARKOZ/hacker-scripts  hacker-scripts   \n",
       "2             rackt/redux           redux   \n",
       "3        bevacqua/dragula         dragula   \n",
       "4  zenorocha/clipboard.js    clipboard.js   \n",
       "\n",
       "                                         description  stars  forks  \\\n",
       "0   A framework for building native apps with React.  24783   4198   \n",
       "1                              Based on a true story  19836   3553   \n",
       "2    Predictable state container for JavaScript apps  11612   1180   \n",
       "3         :ok_hand: Drag and drop so simple it hurts  10737    593   \n",
       "4  :scissors: Modern copy to clipboard. No Flash....  10268    438   \n",
       "\n",
       "     language       user              name          type  \\\n",
       "0  JavaScript   facebook          Facebook  Organization   \n",
       "1  JavaScript     NARKOZ     Nihad Abbasov          User   \n",
       "2  JavaScript      rackt               NaN  Organization   \n",
       "3  JavaScript   bevacqua  Nicolás Bevacqua          User   \n",
       "4  JavaScript  zenorocha        Zeno Rocha          User   \n",
       "\n",
       "                   location  \n",
       "0    Menlo Park, California  \n",
       "1          Katowice, Poland  \n",
       "2                       NaN  \n",
       "3  https://twitter.com/nzgb  \n",
       "4           Los Angeles, CA  "
      ]
     },
     "execution_count": 7,
     "metadata": {},
     "output_type": "execute_result"
    }
   ],
   "source": [
    "repos_users = repos_users.reindex_axis(['full_name',\n",
    "                                        'repo',\n",
    "                                        'description',\n",
    "                                        'stars',\n",
    "                                        'forks',\n",
    "                                        'language',\n",
    "                                        'user',\n",
    "                                        'name',\n",
    "                                        'type',\n",
    "                                        'location'], axis=1)\n",
    "print(repos_users.shape)\n",
    "repos_users.head()"
   ]
  },
  {
   "cell_type": "markdown",
   "metadata": {},
   "source": [
    "## Add Overall Ranks"
   ]
  },
  {
   "cell_type": "markdown",
   "metadata": {},
   "source": [
    "Rank each element based on number of stars:"
   ]
  },
  {
   "cell_type": "code",
   "execution_count": 8,
   "metadata": {
    "collapsed": false,
    "scrolled": false
   },
   "outputs": [
    {
     "name": "stdout",
     "output_type": "stream",
     "text": [
      "(7059, 11)\n"
     ]
    },
    {
     "data": {
      "text/html": [
       "<div>\n",
       "<table border=\"1\" class=\"dataframe\">\n",
       "  <thead>\n",
       "    <tr style=\"text-align: right;\">\n",
       "      <th></th>\n",
       "      <th>full_name</th>\n",
       "      <th>repo</th>\n",
       "      <th>description</th>\n",
       "      <th>stars</th>\n",
       "      <th>forks</th>\n",
       "      <th>language</th>\n",
       "      <th>user</th>\n",
       "      <th>name</th>\n",
       "      <th>type</th>\n",
       "      <th>location</th>\n",
       "      <th>rank</th>\n",
       "    </tr>\n",
       "  </thead>\n",
       "  <tbody>\n",
       "    <tr>\n",
       "      <th>0</th>\n",
       "      <td>facebook/react-native</td>\n",
       "      <td>react-native</td>\n",
       "      <td>A framework for building native apps with React.</td>\n",
       "      <td>24783</td>\n",
       "      <td>4198</td>\n",
       "      <td>JavaScript</td>\n",
       "      <td>facebook</td>\n",
       "      <td>Facebook</td>\n",
       "      <td>Organization</td>\n",
       "      <td>Menlo Park, California</td>\n",
       "      <td>2</td>\n",
       "    </tr>\n",
       "    <tr>\n",
       "      <th>1</th>\n",
       "      <td>NARKOZ/hacker-scripts</td>\n",
       "      <td>hacker-scripts</td>\n",
       "      <td>Based on a true story</td>\n",
       "      <td>19836</td>\n",
       "      <td>3553</td>\n",
       "      <td>JavaScript</td>\n",
       "      <td>NARKOZ</td>\n",
       "      <td>Nihad Abbasov</td>\n",
       "      <td>User</td>\n",
       "      <td>Katowice, Poland</td>\n",
       "      <td>4</td>\n",
       "    </tr>\n",
       "    <tr>\n",
       "      <th>2</th>\n",
       "      <td>rackt/redux</td>\n",
       "      <td>redux</td>\n",
       "      <td>Predictable state container for JavaScript apps</td>\n",
       "      <td>11612</td>\n",
       "      <td>1180</td>\n",
       "      <td>JavaScript</td>\n",
       "      <td>rackt</td>\n",
       "      <td>NaN</td>\n",
       "      <td>Organization</td>\n",
       "      <td>NaN</td>\n",
       "      <td>9</td>\n",
       "    </tr>\n",
       "    <tr>\n",
       "      <th>3</th>\n",
       "      <td>bevacqua/dragula</td>\n",
       "      <td>dragula</td>\n",
       "      <td>:ok_hand: Drag and drop so simple it hurts</td>\n",
       "      <td>10737</td>\n",
       "      <td>593</td>\n",
       "      <td>JavaScript</td>\n",
       "      <td>bevacqua</td>\n",
       "      <td>Nicolás Bevacqua</td>\n",
       "      <td>User</td>\n",
       "      <td>https://twitter.com/nzgb</td>\n",
       "      <td>10</td>\n",
       "    </tr>\n",
       "    <tr>\n",
       "      <th>4</th>\n",
       "      <td>zenorocha/clipboard.js</td>\n",
       "      <td>clipboard.js</td>\n",
       "      <td>:scissors: Modern copy to clipboard. No Flash....</td>\n",
       "      <td>10268</td>\n",
       "      <td>438</td>\n",
       "      <td>JavaScript</td>\n",
       "      <td>zenorocha</td>\n",
       "      <td>Zeno Rocha</td>\n",
       "      <td>User</td>\n",
       "      <td>Los Angeles, CA</td>\n",
       "      <td>11</td>\n",
       "    </tr>\n",
       "  </tbody>\n",
       "</table>\n",
       "</div>"
      ],
      "text/plain": [
       "                full_name            repo  \\\n",
       "0   facebook/react-native    react-native   \n",
       "1   NARKOZ/hacker-scripts  hacker-scripts   \n",
       "2             rackt/redux           redux   \n",
       "3        bevacqua/dragula         dragula   \n",
       "4  zenorocha/clipboard.js    clipboard.js   \n",
       "\n",
       "                                         description  stars  forks  \\\n",
       "0   A framework for building native apps with React.  24783   4198   \n",
       "1                              Based on a true story  19836   3553   \n",
       "2    Predictable state container for JavaScript apps  11612   1180   \n",
       "3         :ok_hand: Drag and drop so simple it hurts  10737    593   \n",
       "4  :scissors: Modern copy to clipboard. No Flash....  10268    438   \n",
       "\n",
       "     language       user              name          type  \\\n",
       "0  JavaScript   facebook          Facebook  Organization   \n",
       "1  JavaScript     NARKOZ     Nihad Abbasov          User   \n",
       "2  JavaScript      rackt               NaN  Organization   \n",
       "3  JavaScript   bevacqua  Nicolás Bevacqua          User   \n",
       "4  JavaScript  zenorocha        Zeno Rocha          User   \n",
       "\n",
       "                   location  rank  \n",
       "0    Menlo Park, California     2  \n",
       "1          Katowice, Poland     4  \n",
       "2                       NaN     9  \n",
       "3  https://twitter.com/nzgb    10  \n",
       "4           Los Angeles, CA    11  "
      ]
     },
     "execution_count": 8,
     "metadata": {},
     "output_type": "execute_result"
    }
   ],
   "source": [
    "repos_users['rank'] = repos_users['stars'].rank(ascending=False)\n",
    "print(repos_users.shape)\n",
    "repos_users.head()"
   ]
  },
  {
   "cell_type": "markdown",
   "metadata": {},
   "source": [
    "## Verify Results: Users"
   ]
  },
  {
   "cell_type": "markdown",
   "metadata": {},
   "source": [
    "Equivalent [GitHub search query](https://github.com/search?utf8=%E2%9C%93&q=created%3A2015-01-01..2015-12-31+stars%3A%3E%3D100+user%3Adonnemartin&type=Repositories&ref=searchresults): `created:2015-01-01..2015-12-31 stars:>=100 user:donnemartin`\n",
    "\n",
    "*Note: The data might be slightly off, as the search query will take into account data up to when the query was executed.  Data in this notebook was mined on January 1, 2016 to 'freeze' the results for the year 2015.  The longer you run the search from January 1, 2016, the larger the discrepancy.*"
   ]
  },
  {
   "cell_type": "code",
   "execution_count": 9,
   "metadata": {
    "collapsed": false
   },
   "outputs": [
    {
     "data": {
      "text/html": [
       "<div>\n",
       "<table border=\"1\" class=\"dataframe\">\n",
       "  <thead>\n",
       "    <tr style=\"text-align: right;\">\n",
       "      <th></th>\n",
       "      <th>full_name</th>\n",
       "      <th>repo</th>\n",
       "      <th>description</th>\n",
       "      <th>stars</th>\n",
       "      <th>forks</th>\n",
       "      <th>language</th>\n",
       "      <th>user</th>\n",
       "      <th>name</th>\n",
       "      <th>type</th>\n",
       "      <th>location</th>\n",
       "      <th>rank</th>\n",
       "    </tr>\n",
       "  </thead>\n",
       "  <tbody>\n",
       "    <tr>\n",
       "      <th>2761</th>\n",
       "      <td>donnemartin/data-science-ipython-notebooks</td>\n",
       "      <td>data-science-ipython-notebooks</td>\n",
       "      <td>Continually updated data science Python notebo...</td>\n",
       "      <td>3945</td>\n",
       "      <td>623</td>\n",
       "      <td>Python</td>\n",
       "      <td>donnemartin</td>\n",
       "      <td>Donne Martin</td>\n",
       "      <td>User</td>\n",
       "      <td>Washington, D.C.</td>\n",
       "      <td>80.0</td>\n",
       "    </tr>\n",
       "    <tr>\n",
       "      <th>2773</th>\n",
       "      <td>donnemartin/saws</td>\n",
       "      <td>saws</td>\n",
       "      <td>A supercharged AWS command line interface (CLI...</td>\n",
       "      <td>2591</td>\n",
       "      <td>88</td>\n",
       "      <td>Python</td>\n",
       "      <td>donnemartin</td>\n",
       "      <td>Donne Martin</td>\n",
       "      <td>User</td>\n",
       "      <td>Washington, D.C.</td>\n",
       "      <td>176.0</td>\n",
       "    </tr>\n",
       "    <tr>\n",
       "      <th>2777</th>\n",
       "      <td>donnemartin/interactive-coding-challenges</td>\n",
       "      <td>interactive-coding-challenges</td>\n",
       "      <td>Continually updated interactive, test-driven P...</td>\n",
       "      <td>2121</td>\n",
       "      <td>256</td>\n",
       "      <td>Python</td>\n",
       "      <td>donnemartin</td>\n",
       "      <td>Donne Martin</td>\n",
       "      <td>User</td>\n",
       "      <td>Washington, D.C.</td>\n",
       "      <td>245.0</td>\n",
       "    </tr>\n",
       "    <tr>\n",
       "      <th>2784</th>\n",
       "      <td>donnemartin/awesome-aws</td>\n",
       "      <td>awesome-aws</td>\n",
       "      <td>A curated list of awesome Amazon Web Services ...</td>\n",
       "      <td>1631</td>\n",
       "      <td>96</td>\n",
       "      <td>Python</td>\n",
       "      <td>donnemartin</td>\n",
       "      <td>Donne Martin</td>\n",
       "      <td>User</td>\n",
       "      <td>Washington, D.C.</td>\n",
       "      <td>353.0</td>\n",
       "    </tr>\n",
       "    <tr>\n",
       "      <th>2785</th>\n",
       "      <td>donnemartin/dev-setup</td>\n",
       "      <td>dev-setup</td>\n",
       "      <td>Mac OS X development environment setup:  Easy-...</td>\n",
       "      <td>1581</td>\n",
       "      <td>197</td>\n",
       "      <td>Python</td>\n",
       "      <td>donnemartin</td>\n",
       "      <td>Donne Martin</td>\n",
       "      <td>User</td>\n",
       "      <td>Washington, D.C.</td>\n",
       "      <td>364.5</td>\n",
       "    </tr>\n",
       "  </tbody>\n",
       "</table>\n",
       "</div>"
      ],
      "text/plain": [
       "                                       full_name  \\\n",
       "2761  donnemartin/data-science-ipython-notebooks   \n",
       "2773                            donnemartin/saws   \n",
       "2777   donnemartin/interactive-coding-challenges   \n",
       "2784                     donnemartin/awesome-aws   \n",
       "2785                       donnemartin/dev-setup   \n",
       "\n",
       "                                repo  \\\n",
       "2761  data-science-ipython-notebooks   \n",
       "2773                            saws   \n",
       "2777   interactive-coding-challenges   \n",
       "2784                     awesome-aws   \n",
       "2785                       dev-setup   \n",
       "\n",
       "                                            description  stars  forks  \\\n",
       "2761  Continually updated data science Python notebo...   3945    623   \n",
       "2773  A supercharged AWS command line interface (CLI...   2591     88   \n",
       "2777  Continually updated interactive, test-driven P...   2121    256   \n",
       "2784  A curated list of awesome Amazon Web Services ...   1631     96   \n",
       "2785  Mac OS X development environment setup:  Easy-...   1581    197   \n",
       "\n",
       "     language         user          name  type          location   rank  \n",
       "2761   Python  donnemartin  Donne Martin  User  Washington, D.C.   80.0  \n",
       "2773   Python  donnemartin  Donne Martin  User  Washington, D.C.  176.0  \n",
       "2777   Python  donnemartin  Donne Martin  User  Washington, D.C.  245.0  \n",
       "2784   Python  donnemartin  Donne Martin  User  Washington, D.C.  353.0  \n",
       "2785   Python  donnemartin  Donne Martin  User  Washington, D.C.  364.5  "
      ]
     },
     "execution_count": 9,
     "metadata": {},
     "output_type": "execute_result"
    }
   ],
   "source": [
    "repos_users[repos_users['user'] == 'donnemartin']"
   ]
  },
  {
   "cell_type": "markdown",
   "metadata": {},
   "source": [
    "## Verify Results: Python Repos"
   ]
  },
  {
   "cell_type": "markdown",
   "metadata": {},
   "source": [
    "Equivalent [GitHub search query](https://github.com/search?utf8=%E2%9C%93&q=created%3A2015-01-01..2015-12-31+stars%3A%3E%3D100+language%3Apython&type=Repositories&ref=searchresults): `created:2015-01-01..2015-12-31 stars:>=100 language:python`\n",
    "\n",
    "*Note: The data might be slightly off, as the search query will take into account data up to when the query was executed.  Data in this notebook was mined on January 1, 2016 to 'freeze' the results for the year 2015.  The longer you run the search from January 1, 2016, the larger the discrepancy.*"
   ]
  },
  {
   "cell_type": "code",
   "execution_count": 10,
   "metadata": {
    "collapsed": false
   },
   "outputs": [
    {
     "name": "stdout",
     "output_type": "stream",
     "text": [
      "(553, 11)\n"
     ]
    },
    {
     "data": {
      "text/html": [
       "<div>\n",
       "<table border=\"1\" class=\"dataframe\">\n",
       "  <thead>\n",
       "    <tr style=\"text-align: right;\">\n",
       "      <th></th>\n",
       "      <th>full_name</th>\n",
       "      <th>repo</th>\n",
       "      <th>description</th>\n",
       "      <th>stars</th>\n",
       "      <th>forks</th>\n",
       "      <th>language</th>\n",
       "      <th>user</th>\n",
       "      <th>name</th>\n",
       "      <th>type</th>\n",
       "      <th>location</th>\n",
       "      <th>rank</th>\n",
       "    </tr>\n",
       "  </thead>\n",
       "  <tbody>\n",
       "    <tr>\n",
       "      <th>2758</th>\n",
       "      <td>nvbn/thefuck</td>\n",
       "      <td>thefuck</td>\n",
       "      <td>Magnificent app which corrects your previous c...</td>\n",
       "      <td>16449</td>\n",
       "      <td>768</td>\n",
       "      <td>Python</td>\n",
       "      <td>nvbn</td>\n",
       "      <td>Vladimir Iakovlev</td>\n",
       "      <td>User</td>\n",
       "      <td>Russia, Saint-Petersburg</td>\n",
       "      <td>6</td>\n",
       "    </tr>\n",
       "    <tr>\n",
       "      <th>2759</th>\n",
       "      <td>minimaxir/big-list-of-naughty-strings</td>\n",
       "      <td>big-list-of-naughty-strings</td>\n",
       "      <td>The Big List of Naughty Strings is a list of s...</td>\n",
       "      <td>9387</td>\n",
       "      <td>381</td>\n",
       "      <td>Python</td>\n",
       "      <td>minimaxir</td>\n",
       "      <td>Max Woolf</td>\n",
       "      <td>User</td>\n",
       "      <td>San Francisco Bay Area</td>\n",
       "      <td>13</td>\n",
       "    </tr>\n",
       "    <tr>\n",
       "      <th>2760</th>\n",
       "      <td>XX-net/XX-Net</td>\n",
       "      <td>XX-Net</td>\n",
       "      <td>接力GoAgent翻墙工具----Anti-censor tools</td>\n",
       "      <td>4137</td>\n",
       "      <td>1535</td>\n",
       "      <td>Python</td>\n",
       "      <td>XX-net</td>\n",
       "      <td>XX-Net</td>\n",
       "      <td>Organization</td>\n",
       "      <td>NaN</td>\n",
       "      <td>68</td>\n",
       "    </tr>\n",
       "    <tr>\n",
       "      <th>2761</th>\n",
       "      <td>donnemartin/data-science-ipython-notebooks</td>\n",
       "      <td>data-science-ipython-notebooks</td>\n",
       "      <td>Continually updated data science Python notebo...</td>\n",
       "      <td>3945</td>\n",
       "      <td>623</td>\n",
       "      <td>Python</td>\n",
       "      <td>donnemartin</td>\n",
       "      <td>Donne Martin</td>\n",
       "      <td>User</td>\n",
       "      <td>Washington, D.C.</td>\n",
       "      <td>80</td>\n",
       "    </tr>\n",
       "    <tr>\n",
       "      <th>2762</th>\n",
       "      <td>fchollet/keras</td>\n",
       "      <td>keras</td>\n",
       "      <td>Deep Learning library for Python. Convnets, re...</td>\n",
       "      <td>3731</td>\n",
       "      <td>864</td>\n",
       "      <td>Python</td>\n",
       "      <td>fchollet</td>\n",
       "      <td>François Chollet</td>\n",
       "      <td>User</td>\n",
       "      <td>San Francisco</td>\n",
       "      <td>90</td>\n",
       "    </tr>\n",
       "  </tbody>\n",
       "</table>\n",
       "</div>"
      ],
      "text/plain": [
       "                                       full_name  \\\n",
       "2758                                nvbn/thefuck   \n",
       "2759       minimaxir/big-list-of-naughty-strings   \n",
       "2760                               XX-net/XX-Net   \n",
       "2761  donnemartin/data-science-ipython-notebooks   \n",
       "2762                              fchollet/keras   \n",
       "\n",
       "                                repo  \\\n",
       "2758                         thefuck   \n",
       "2759     big-list-of-naughty-strings   \n",
       "2760                          XX-Net   \n",
       "2761  data-science-ipython-notebooks   \n",
       "2762                           keras   \n",
       "\n",
       "                                            description  stars  forks  \\\n",
       "2758  Magnificent app which corrects your previous c...  16449    768   \n",
       "2759  The Big List of Naughty Strings is a list of s...   9387    381   \n",
       "2760                 接力GoAgent翻墙工具----Anti-censor tools   4137   1535   \n",
       "2761  Continually updated data science Python notebo...   3945    623   \n",
       "2762  Deep Learning library for Python. Convnets, re...   3731    864   \n",
       "\n",
       "     language         user               name          type  \\\n",
       "2758   Python         nvbn  Vladimir Iakovlev          User   \n",
       "2759   Python    minimaxir          Max Woolf          User   \n",
       "2760   Python       XX-net             XX-Net  Organization   \n",
       "2761   Python  donnemartin       Donne Martin          User   \n",
       "2762   Python     fchollet   François Chollet          User   \n",
       "\n",
       "                      location  rank  \n",
       "2758  Russia, Saint-Petersburg     6  \n",
       "2759    San Francisco Bay Area    13  \n",
       "2760                       NaN    68  \n",
       "2761          Washington, D.C.    80  \n",
       "2762             San Francisco    90  "
      ]
     },
     "execution_count": 10,
     "metadata": {},
     "output_type": "execute_result"
    }
   ],
   "source": [
    "print(repos_users[repos_users['language'] == 'Python'].shape)\n",
    "repos_users[repos_users['language'] == 'Python'].head()"
   ]
  },
  {
   "cell_type": "markdown",
   "metadata": {},
   "source": [
    "## Verify Results: Overall Repos"
   ]
  },
  {
   "cell_type": "markdown",
   "metadata": {},
   "source": [
    "Equivalent [GitHub search query](https://github.com/search?utf8=%E2%9C%93&q=created%3A2015-01-01..2015-12-31+stars%3A%3E%3D100&type=Repositories&ref=searchresults): `created:2015-01-01..2015-12-31 stars:>=100`\n",
    "\n",
    "*Note: The data might be slightly off, as the search query will take into account data up to when the query was executed.  Data in this notebook was mined on January 1, 2016 to 'freeze' the results for the year 2015.  The longer you run the search from January 1, 2016, the larger the discrepancy.*"
   ]
  },
  {
   "cell_type": "code",
   "execution_count": 11,
   "metadata": {
    "collapsed": false
   },
   "outputs": [
    {
     "name": "stdout",
     "output_type": "stream",
     "text": [
      "(7059, 11)\n"
     ]
    },
    {
     "data": {
      "text/html": [
       "<div>\n",
       "<table border=\"1\" class=\"dataframe\">\n",
       "  <thead>\n",
       "    <tr style=\"text-align: right;\">\n",
       "      <th></th>\n",
       "      <th>full_name</th>\n",
       "      <th>repo</th>\n",
       "      <th>description</th>\n",
       "      <th>stars</th>\n",
       "      <th>forks</th>\n",
       "      <th>language</th>\n",
       "      <th>user</th>\n",
       "      <th>name</th>\n",
       "      <th>type</th>\n",
       "      <th>location</th>\n",
       "      <th>rank</th>\n",
       "    </tr>\n",
       "  </thead>\n",
       "  <tbody>\n",
       "    <tr>\n",
       "      <th>0</th>\n",
       "      <td>facebook/react-native</td>\n",
       "      <td>react-native</td>\n",
       "      <td>A framework for building native apps with React.</td>\n",
       "      <td>24783</td>\n",
       "      <td>4198</td>\n",
       "      <td>JavaScript</td>\n",
       "      <td>facebook</td>\n",
       "      <td>Facebook</td>\n",
       "      <td>Organization</td>\n",
       "      <td>Menlo Park, California</td>\n",
       "      <td>2</td>\n",
       "    </tr>\n",
       "    <tr>\n",
       "      <th>1</th>\n",
       "      <td>NARKOZ/hacker-scripts</td>\n",
       "      <td>hacker-scripts</td>\n",
       "      <td>Based on a true story</td>\n",
       "      <td>19836</td>\n",
       "      <td>3553</td>\n",
       "      <td>JavaScript</td>\n",
       "      <td>NARKOZ</td>\n",
       "      <td>Nihad Abbasov</td>\n",
       "      <td>User</td>\n",
       "      <td>Katowice, Poland</td>\n",
       "      <td>4</td>\n",
       "    </tr>\n",
       "    <tr>\n",
       "      <th>2</th>\n",
       "      <td>rackt/redux</td>\n",
       "      <td>redux</td>\n",
       "      <td>Predictable state container for JavaScript apps</td>\n",
       "      <td>11612</td>\n",
       "      <td>1180</td>\n",
       "      <td>JavaScript</td>\n",
       "      <td>rackt</td>\n",
       "      <td>NaN</td>\n",
       "      <td>Organization</td>\n",
       "      <td>NaN</td>\n",
       "      <td>9</td>\n",
       "    </tr>\n",
       "    <tr>\n",
       "      <th>3</th>\n",
       "      <td>bevacqua/dragula</td>\n",
       "      <td>dragula</td>\n",
       "      <td>:ok_hand: Drag and drop so simple it hurts</td>\n",
       "      <td>10737</td>\n",
       "      <td>593</td>\n",
       "      <td>JavaScript</td>\n",
       "      <td>bevacqua</td>\n",
       "      <td>Nicolás Bevacqua</td>\n",
       "      <td>User</td>\n",
       "      <td>https://twitter.com/nzgb</td>\n",
       "      <td>10</td>\n",
       "    </tr>\n",
       "    <tr>\n",
       "      <th>4</th>\n",
       "      <td>zenorocha/clipboard.js</td>\n",
       "      <td>clipboard.js</td>\n",
       "      <td>:scissors: Modern copy to clipboard. No Flash....</td>\n",
       "      <td>10268</td>\n",
       "      <td>438</td>\n",
       "      <td>JavaScript</td>\n",
       "      <td>zenorocha</td>\n",
       "      <td>Zeno Rocha</td>\n",
       "      <td>User</td>\n",
       "      <td>Los Angeles, CA</td>\n",
       "      <td>11</td>\n",
       "    </tr>\n",
       "  </tbody>\n",
       "</table>\n",
       "</div>"
      ],
      "text/plain": [
       "                full_name            repo  \\\n",
       "0   facebook/react-native    react-native   \n",
       "1   NARKOZ/hacker-scripts  hacker-scripts   \n",
       "2             rackt/redux           redux   \n",
       "3        bevacqua/dragula         dragula   \n",
       "4  zenorocha/clipboard.js    clipboard.js   \n",
       "\n",
       "                                         description  stars  forks  \\\n",
       "0   A framework for building native apps with React.  24783   4198   \n",
       "1                              Based on a true story  19836   3553   \n",
       "2    Predictable state container for JavaScript apps  11612   1180   \n",
       "3         :ok_hand: Drag and drop so simple it hurts  10737    593   \n",
       "4  :scissors: Modern copy to clipboard. No Flash....  10268    438   \n",
       "\n",
       "     language       user              name          type  \\\n",
       "0  JavaScript   facebook          Facebook  Organization   \n",
       "1  JavaScript     NARKOZ     Nihad Abbasov          User   \n",
       "2  JavaScript      rackt               NaN  Organization   \n",
       "3  JavaScript   bevacqua  Nicolás Bevacqua          User   \n",
       "4  JavaScript  zenorocha        Zeno Rocha          User   \n",
       "\n",
       "                   location  rank  \n",
       "0    Menlo Park, California     2  \n",
       "1          Katowice, Poland     4  \n",
       "2                       NaN     9  \n",
       "3  https://twitter.com/nzgb    10  \n",
       "4           Los Angeles, CA    11  "
      ]
     },
     "execution_count": 11,
     "metadata": {},
     "output_type": "execute_result"
    }
   ],
   "source": [
    "print(repos_users.shape)\n",
    "repos_users.head()"
   ]
  },
  {
   "cell_type": "markdown",
   "metadata": {},
   "source": [
    "## Output Results"
   ]
  },
  {
   "cell_type": "markdown",
   "metadata": {},
   "source": [
    "Write out the results to csv to visualize in Tableau:"
   ]
  },
  {
   "cell_type": "code",
   "execution_count": 12,
   "metadata": {
    "collapsed": false,
    "scrolled": false
   },
   "outputs": [],
   "source": [
    "repos_users.to_csv('data/repos.csv', index=False)\n",
    "users.to_csv('data/users.csv', index=False)"
   ]
  }
 ],
 "metadata": {
  "kernelspec": {
   "display_name": "Python 3",
   "language": "python",
   "name": "python3"
  },
  "language_info": {
   "codemirror_mode": {
    "name": "ipython",
    "version": 3
   },
   "file_extension": ".py",
   "mimetype": "text/x-python",
   "name": "python",
   "nbconvert_exporter": "python",
   "pygments_lexer": "ipython3",
   "version": "3.4.3"
  }
 },
 "nbformat": 4,
 "nbformat_minor": 0
}
